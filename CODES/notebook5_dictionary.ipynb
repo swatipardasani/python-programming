{
 "cells": [
  {
   "cell_type": "markdown",
   "id": "aef533f9",
   "metadata": {},
   "source": [
    "## Dictionary"
   ]
  }
 ],
 "metadata": {
  "language_info": {
   "name": "python"
  }
 },
 "nbformat": 4,
 "nbformat_minor": 5
}

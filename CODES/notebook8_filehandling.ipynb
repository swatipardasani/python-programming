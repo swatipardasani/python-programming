{
 "cells": [
  {
   "cell_type": "markdown",
   "id": "45334441",
   "metadata": {},
   "source": [
    "## <span style='color:red; font-family:Brush Script MT'>File Handling </span>\n",
    "![title](../images/jn.png)\n",
    "\n",
    "---\n",
    "\n"
   ]
  }
 ],
 "metadata": {
  "language_info": {
   "name": "python"
  }
 },
 "nbformat": 4,
 "nbformat_minor": 5
}

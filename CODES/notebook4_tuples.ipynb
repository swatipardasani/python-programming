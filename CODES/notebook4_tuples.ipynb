{
 "cells": [
  {
   "cell_type": "markdown",
   "id": "597a5a5d",
   "metadata": {},
   "source": [
    "## Tuples"
   ]
  }
 ],
 "metadata": {
  "language_info": {
   "name": "python"
  }
 },
 "nbformat": 4,
 "nbformat_minor": 5
}

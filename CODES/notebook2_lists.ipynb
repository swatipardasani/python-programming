{
 "cells": [
  {
   "cell_type": "markdown",
   "id": "858ed6e0",
   "metadata": {},
   "source": [
    "## Lists : \n",
    "1. ordered sequences that can hold a variety of object types\n",
    "2. supports indexing and slicing. "
   ]
  },
  {
   "cell_type": "code",
   "execution_count": 1,
   "id": "486ddcb2",
   "metadata": {},
   "outputs": [],
   "source": [
    "my_list = [1,2,3,4,5]"
   ]
  },
  {
   "cell_type": "code",
   "execution_count": 1,
   "id": "c5af65f1",
   "metadata": {},
   "outputs": [
    {
     "name": "stdout",
     "output_type": "stream",
     "text": [
      "['Geeks', 'for', 'Geeks']\n",
      "Geeks\n",
      "for\n",
      "Geeks\n",
      "Geeks\n"
     ]
    }
   ],
   "source": [
    "\n",
    "list_1 = [\"Geeks\", \"for\", \"Geeks\"] \n",
    "print(list_1)       #['Geeks', 'for', 'Geeks']\n",
    "print(list_1[0])    #Geeks\n",
    "print(list_1[1])    #for\n",
    "print(list_1[2])    #Geeks\n",
    "print(list_1[2])    #Geeks"
   ]
  },
  {
   "cell_type": "code",
   "execution_count": 4,
   "id": "7e82917e",
   "metadata": {},
   "outputs": [
    {
     "data": {
      "text/plain": [
       "3"
      ]
     },
     "execution_count": 4,
     "metadata": {},
     "output_type": "execute_result"
    }
   ],
   "source": [
    "my_list = ['STRING', 100, 23.2]\n",
    "# Calculate length -> \n",
    "len(my_list)"
   ]
  },
  {
   "cell_type": "code",
   "execution_count": 6,
   "id": "1e5aa3bc",
   "metadata": {},
   "outputs": [
    {
     "name": "stdout",
     "output_type": "stream",
     "text": [
      "STRING\n",
      "23.2\n"
     ]
    }
   ],
   "source": [
    "#Iteration of single objects\n",
    "# list_name[index]\n",
    "print(my_list[0])\n",
    "# accessing last element \n",
    "print(my_list[-1])\n",
    "\n"
   ]
  },
  {
   "cell_type": "code",
   "execution_count": 13,
   "id": "6fd73173",
   "metadata": {},
   "outputs": [
    {
     "name": "stdout",
     "output_type": "stream",
     "text": [
      "2\n",
      "['apples', 'bananas']\n",
      "['apples', 'bananas']\n",
      "apples\n",
      "bananas\n"
     ]
    }
   ],
   "source": [
    "# Indexing nested list \n",
    "list_nest = [1,2,['apples','bananas']]\n",
    "print(list_nest[1])\n",
    "print(list_nest[2])\n",
    "print(list_nest[2][:])\n",
    "print(list_nest[2][0])\n",
    "print(list_nest[2][1])"
   ]
  },
  {
   "cell_type": "code",
   "execution_count": 14,
   "id": "49ff71ca",
   "metadata": {},
   "outputs": [
    {
     "name": "stdout",
     "output_type": "stream",
     "text": [
      "[100, 23.2]\n",
      "['STRING', 100, 23.2]\n",
      "['STRING', 100, 23.2]\n"
     ]
    }
   ],
   "source": [
    "#List slicing\n",
    "#getting 1st item to last\n",
    "print(my_list[1:])\n",
    "# getting first three items\n",
    "print(my_list[:3])\n",
    "# getting last three items \n",
    "print(my_list[-3:])\n"
   ]
  },
  {
   "cell_type": "code",
   "execution_count": null,
   "id": "2a80468e",
   "metadata": {},
   "outputs": [
    {
     "name": "stdout",
     "output_type": "stream",
     "text": [
      "['kai', 'abe', 'ada']\n",
      "['abe', 'ada', 'gus']\n",
      "['ada', 'gus', 'zoe']\n",
      "['zoe', 'gus', 'ada']\n"
     ]
    }
   ],
   "source": [
    "finishers = ['kai', 'abe', 'ada', 'gus', 'zoe']\n",
    "first_three = finishers[:3]\n",
    "print(first_three)\n",
    "middle_three = finishers[1:4]\n",
    "print(middle_three)\n",
    "last_three = finishers[-3:]\n",
    "print(last_three)\n"
   ]
  },
  {
   "cell_type": "code",
   "execution_count": 30,
   "id": "489e9239",
   "metadata": {},
   "outputs": [
    {
     "name": "stdout",
     "output_type": "stream",
     "text": [
      "['zoe', 'gus', 'ada']\n",
      "['zoe', 'gus', 'ada', 'abe', 'kai']\n"
     ]
    }
   ],
   "source": [
    "# Last three elements in reverse order \n",
    "# Explanation : [start : stop : step]\n",
    "last_three_reverse = finishers[-3:][::-1]\n",
    "print(last_three_reverse)\n",
    "# Reverse complete list \n",
    "finishers_reverse = finishers[::-1]\n",
    "print(finishers_reverse)"
   ]
  },
  {
   "cell_type": "code",
   "execution_count": 14,
   "id": "dfda279a",
   "metadata": {},
   "outputs": [
    {
     "name": "stdout",
     "output_type": "stream",
     "text": [
      "[1, 4, 9, 16, 25, 36, 49, 64, 81, 100]\n",
      "[1, 4, 9, 16, 25, 36, 49, 64, 81, 100]\n",
      "['ODD', 2, 'ODD', 4, 'ODD', 6, 'ODD', 8, 'ODD', 10, 'ODD', 12, 'ODD', 14, 'ODD', 16, 'ODD', 18, 'ODD']\n",
      "[2, 4, 6, 8, 10, 12, 14, 16, 18]\n",
      "[1, 3, 5, 7, 9, 11, 13, 15, 17, 19]\n",
      "['ODD', 2, 'ODD', 4, 'ODD', 6, 'ODD', 8, 'ODD', 10, 'ODD', 12, 'ODD', 14, 'ODD', 16, 'ODD', 18, 'ODD']\n",
      "[2, 20, 2000, 4, 40, 4000, 6, 60, 6000]\n",
      "[2, 20, 2000, 4, 40, 4000, 6, 60, 6000]\n"
     ]
    }
   ],
   "source": [
    "# List comprehensions\n",
    "#  You can use loop to generate a listbased on range of numbers or any  other list. \n",
    "\n",
    "squares =[]\n",
    "for x in range(1,11):\n",
    "    square = x**2\n",
    "    squares.append(square)\n",
    "print(squares)\n",
    "\n",
    "# Compact way : list comprehensions  \n",
    "# [operatio for_loop]\n",
    "squares = [x**2 for x in range(1,11)]\n",
    "print(squares)\n",
    "\n",
    "# find odd numbers with list comprehensions \n",
    "# if -else syntax\n",
    "odd = [x if x%2==0 else 'ODD' for x in range(1,20)]\n",
    "print(odd)\n",
    "\n",
    "# only if syntax\n",
    "# only even\n",
    "even = [x for x in range(1,20) if x%2==0]\n",
    "print(even)\n",
    "#only odd \n",
    "odd = [x for x in range(1,20) if x%2!=0]\n",
    "print(odd)\n",
    "\n",
    "\n",
    "odd = []\n",
    "for x in range(1,20):\n",
    "    if x%2 == 0:\n",
    "        odd.append(x)\n",
    "    else:\n",
    "        odd.append('ODD')\n",
    "print(odd)\n",
    "\n",
    "## multiple for loop\n",
    "my_list = []\n",
    "for x in [2,4,6]:\n",
    "    for y in [1,10,1000]:\n",
    "        my_list.append(x*y)\n",
    "print(my_list)\n",
    "\n",
    "my_list = [x*y for x in [2,4,6] for y in [1,10,1000]]\n",
    "print(my_list)"
   ]
  },
  {
   "cell_type": "markdown",
   "id": "5d7ec40d",
   "metadata": {},
   "source": [
    "## List Important Methods"
   ]
  },
  {
   "cell_type": "code",
   "execution_count": null,
   "id": "efb1cc8a",
   "metadata": {},
   "outputs": [],
   "source": []
  }
 ],
 "metadata": {
  "kernelspec": {
   "display_name": "Python 3",
   "language": "python",
   "name": "python3"
  },
  "language_info": {
   "codemirror_mode": {
    "name": "ipython",
    "version": 3
   },
   "file_extension": ".py",
   "mimetype": "text/x-python",
   "name": "python",
   "nbconvert_exporter": "python",
   "pygments_lexer": "ipython3",
   "version": "3.12.1"
  }
 },
 "nbformat": 4,
 "nbformat_minor": 5
}

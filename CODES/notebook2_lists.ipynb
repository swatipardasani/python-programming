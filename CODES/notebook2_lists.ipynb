{
 "cells": [
  {
   "cell_type": "markdown",
   "id": "858ed6e0",
   "metadata": {},
   "source": [
    "## Lists : \n",
    "1. ordered sequences that can hold a variety of object types\n",
    "2. supports indexing and slicing. "
   ]
  },
  {
   "cell_type": "code",
   "execution_count": 1,
   "id": "486ddcb2",
   "metadata": {},
   "outputs": [],
   "source": [
    "my_list = [1,2,3,4,5]"
   ]
  },
  {
   "cell_type": "code",
   "execution_count": 3,
   "id": "7e82917e",
   "metadata": {},
   "outputs": [
    {
     "data": {
      "text/plain": [
       "3"
      ]
     },
     "execution_count": 3,
     "metadata": {},
     "output_type": "execute_result"
    }
   ],
   "source": [
    "my_list = ['STRING', 100, 23.2]\n",
    "# Calculate length -> \n",
    "len(my_list)"
   ]
  },
  {
   "cell_type": "code",
   "execution_count": 9,
   "id": "1e5aa3bc",
   "metadata": {},
   "outputs": [
    {
     "name": "stdout",
     "output_type": "stream",
     "text": [
      "STRING\n",
      "23.2\n"
     ]
    }
   ],
   "source": [
    "#Iteration of single objects\n",
    "# list_name[index]\n",
    "print(my_list[0])\n",
    "# accessing last element \n",
    "print(my_list[-1])"
   ]
  },
  {
   "cell_type": "code",
   "execution_count": 14,
   "id": "49ff71ca",
   "metadata": {},
   "outputs": [
    {
     "name": "stdout",
     "output_type": "stream",
     "text": [
      "[100, 23.2]\n",
      "['STRING', 100, 23.2]\n",
      "['STRING', 100, 23.2]\n"
     ]
    }
   ],
   "source": [
    "#List slicing\n",
    "#getting 1st item to last\n",
    "print(my_list[1:])\n",
    "# getting first three items\n",
    "print(my_list[:3])\n",
    "# getting last three items \n",
    "print(my_list[-3:])\n"
   ]
  },
  {
   "cell_type": "code",
   "execution_count": null,
   "id": "2a80468e",
   "metadata": {},
   "outputs": [
    {
     "name": "stdout",
     "output_type": "stream",
     "text": [
      "['kai', 'abe', 'ada']\n",
      "['abe', 'ada', 'gus']\n",
      "['ada', 'gus', 'zoe']\n",
      "['zoe', 'gus', 'ada']\n"
     ]
    }
   ],
   "source": [
    "finishers = ['kai', 'abe', 'ada', 'gus', 'zoe']\n",
    "first_three = finishers[:3]\n",
    "print(first_three)\n",
    "middle_three = finishers[1:4]\n",
    "print(middle_three)\n",
    "last_three = finishers[-3:]\n",
    "print(last_three)\n"
   ]
  },
  {
   "cell_type": "code",
   "execution_count": 30,
   "id": "489e9239",
   "metadata": {},
   "outputs": [
    {
     "name": "stdout",
     "output_type": "stream",
     "text": [
      "['zoe', 'gus', 'ada']\n",
      "['zoe', 'gus', 'ada', 'abe', 'kai']\n"
     ]
    }
   ],
   "source": [
    "# Last three elements in reverse order \n",
    "# Explanation : [start : stop : step]\n",
    "last_three_reverse = finishers[-3:][::-1]\n",
    "print(last_three_reverse)\n",
    "# Reverse complete list \n",
    "finishers_reverse = finishers[::-1]\n",
    "print(finishers_reverse)"
   ]
  },
  {
   "cell_type": "code",
   "execution_count": null,
   "id": "dfda279a",
   "metadata": {},
   "outputs": [],
   "source": []
  }
 ],
 "metadata": {
  "kernelspec": {
   "display_name": "Python 3",
   "language": "python",
   "name": "python3"
  },
  "language_info": {
   "codemirror_mode": {
    "name": "ipython",
    "version": 3
   },
   "file_extension": ".py",
   "mimetype": "text/x-python",
   "name": "python",
   "nbconvert_exporter": "python",
   "pygments_lexer": "ipython3",
   "version": "3.12.1"
  }
 },
 "nbformat": 4,
 "nbformat_minor": 5
}
